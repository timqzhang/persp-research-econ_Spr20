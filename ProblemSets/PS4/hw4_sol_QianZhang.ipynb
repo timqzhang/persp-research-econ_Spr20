{
 "cells": [
  {
   "cell_type": "markdown",
   "metadata": {},
   "source": [
    "## Assignment 4\n",
    "\n",
    "### Qian Zhang"
   ]
  },
  {
   "cell_type": "code",
   "execution_count": 1,
   "metadata": {},
   "outputs": [],
   "source": [
    "# import packages\n",
    "\n",
    "import numpy as np\n",
    "import time\n",
    "import scipy.optimize as opt\n",
    "import matplotlib.pyplot as plt\n",
    "\n",
    "import warnings\n",
    "warnings.filterwarnings(\"ignore\")"
   ]
  },
  {
   "cell_type": "markdown",
   "metadata": {},
   "source": [
    "## exer 2.1"
   ]
  },
  {
   "cell_type": "code",
   "execution_count": 2,
   "metadata": {},
   "outputs": [],
   "source": [
    "# load the setting in Section 2.6\n",
    "\n",
    "A = 1 \n",
    "alpha = 0.35 \n",
    "beta = 0.96**20\n",
    "delta = 1-(1-0.05)**20\n",
    "sigma = 3 \n",
    "nvec = np.array([1.0, 1.0, 0.2])\n",
    "f_params = (nvec, A, alpha, delta)"
   ]
  },
  {
   "cell_type": "code",
   "execution_count": 3,
   "metadata": {},
   "outputs": [],
   "source": [
    "# define the feasible function\n",
    "\n",
    "def feasible(f_params, bvec_guess):\n",
    "    \n",
    "        nvec, A, alpha, delta = f_params\n",
    "        b2, b3 = bvec_guess\n",
    "        \n",
    "        K = np.sum(bvec_guess)\n",
    "        L = np.sum(nvec)\n",
    "        w = A * (1 - alpha) * ((K / L) ** alpha)\n",
    "        r = A * alpha * ((L / K) ** (1 - alpha)) - delta\n",
    "        \n",
    "        c1 = nvec[0] * w - b2\n",
    "        c2 = nvec[1] * w + (1 + r) * b2 - b3\n",
    "        c3 = nvec[2] * w + (1 + r) * b3\n",
    "        \n",
    "        K_cnstr, c_cnstr, b_cnstr = np.full(1, False), np.full(3, False), np.full(2, False)\n",
    "\n",
    "        K_cnstr[0] = K <= 0\n",
    "        c_cnstr = [(c1 <= 0), (c2 <= 0), (c3 <= 0)]\n",
    "\n",
    "        if c_cnstr[0] == True:\n",
    "            b_cnstr[0] = True\n",
    "        if c_cnstr[1] == True:\n",
    "            b_cnstr[0], b_cnstr[1] = True, True\n",
    "        if c_cnstr[2] == True:\n",
    "            b_cnstr[1] = True\n",
    "                \n",
    "        return b_cnstr, c_cnstr, K_cnstr"
   ]
  },
  {
   "cell_type": "markdown",
   "metadata": {},
   "source": [
    "### exer 2.1 (a)"
   ]
  },
  {
   "cell_type": "code",
   "execution_count": 4,
   "metadata": {},
   "outputs": [
    {
     "name": "stdout",
     "output_type": "stream",
     "text": [
      "b_cnstr is [ True False].\n",
      "c_cnstr is [True, False, False].\n",
      "K_cnstr is [False].\n"
     ]
    }
   ],
   "source": [
    "bvec_guess = np.array([1.0, 1.2])\n",
    "b_cnstr, c_cnstr, K_cnstr = feasible(f_params, bvec_guess)\n",
    "print('b_cnstr is {}.\\nc_cnstr is {}.\\nK_cnstr is {}.'.format(b_cnstr, c_cnstr, K_cnstr))"
   ]
  },
  {
   "cell_type": "markdown",
   "metadata": {},
   "source": [
    "It shows that the consumption nonnegativity constraint at period 1 is violated by the given initial guess."
   ]
  },
  {
   "cell_type": "markdown",
   "metadata": {},
   "source": [
    "### exer 2.1 (b)"
   ]
  },
  {
   "cell_type": "code",
   "execution_count": 5,
   "metadata": {},
   "outputs": [
    {
     "name": "stdout",
     "output_type": "stream",
     "text": [
      "b_cnstr is [False False].\n",
      "c_cnstr is [False, False, False].\n",
      "K_cnstr is [False].\n"
     ]
    }
   ],
   "source": [
    "bvec_guess = np.array([0.06, -0.001])\n",
    "b_cnstr, c_cnstr, K_cnstr = feasible(f_params, bvec_guess)\n",
    "print('b_cnstr is {}.\\nc_cnstr is {}.\\nK_cnstr is {}.'.format(b_cnstr, c_cnstr, K_cnstr))"
   ]
  },
  {
   "cell_type": "markdown",
   "metadata": {},
   "source": [
    "It shows that no constraints are violated by the given initial guess."
   ]
  },
  {
   "cell_type": "markdown",
   "metadata": {},
   "source": [
    "### exer 2.1 (c)"
   ]
  },
  {
   "cell_type": "code",
   "execution_count": 6,
   "metadata": {},
   "outputs": [
    {
     "name": "stdout",
     "output_type": "stream",
     "text": [
      "b_cnstr is [False False].\n",
      "c_cnstr is [False, False, False].\n",
      "K_cnstr is [False].\n"
     ]
    }
   ],
   "source": [
    "bvec_guess = np.array([0.1, 0.1])\n",
    "b_cnstr, c_cnstr, K_cnstr = feasible(f_params, bvec_guess)\n",
    "print('b_cnstr is {}.\\nc_cnstr is {}.\\nK_cnstr is {}.'.format(b_cnstr, c_cnstr, K_cnstr))"
   ]
  },
  {
   "cell_type": "markdown",
   "metadata": {},
   "source": [
    "It shows that no constraints are violated by the given initial guess."
   ]
  },
  {
   "cell_type": "markdown",
   "metadata": {},
   "source": [
    "## exer 2.2"
   ]
  },
  {
   "cell_type": "code",
   "execution_count": 7,
   "metadata": {},
   "outputs": [],
   "source": [
    "def EulEq(bvec, args):\n",
    "    \n",
    "    beta, sigma, nvec, L, A, alpha, delta, SS_tol = args\n",
    "    \n",
    "    b2, b3 = bvec\n",
    "    \n",
    "    K = np.sum(bvec)\n",
    "    L = np.sum(nvec)\n",
    "    w = A * (1 - alpha) * ((K / L) ** alpha)\n",
    "    r = A * alpha * ((L / K) ** (1 - alpha)) - delta\n",
    "\n",
    "    c1 = nvec[0] * w - b2\n",
    "    c2 = nvec[1] * w + (1 + r) * b2 - b3\n",
    "    c3 = nvec[2] * w + (1 + r) * b3\n",
    "    \n",
    "    c = [c1, c2, c3]\n",
    "    \n",
    "    EE1 = (c[0] ** (-sigma)) - beta * (1 + r) * (c[1] ** (-sigma)) \n",
    "    EE2 = (c[1] ** (-sigma)) - beta * (1 + r) * (c[2] ** (-sigma))\n",
    "    \n",
    "    EulErr_ss = np.array([EE1, EE2])\n",
    "    \n",
    "    return EulErr_ss\n",
    "\n",
    "# define the get_SS function\n",
    "\n",
    "def get_SS(params, bvec_guess, SS_graphs):\n",
    "    \n",
    "    start_time = time.clock() # Place at beginning of get_SS()\n",
    "    \n",
    "    beta, sigma, nvec, L, A, alpha, delta, SS_tol = params\n",
    "    \n",
    "    b_ss = opt.root(EulEq, bvec_guess, args = np.array(params)).x\n",
    "    K_ss = np.sum(b_ss)\n",
    "    w_ss = A * (1 - alpha) * ((K_ss / L) ** alpha)\n",
    "    r_ss = A * alpha * ((L / K_ss) ** (1 - alpha)) - delta\n",
    "    Y_ss = A * (K_ss ** alpha) * (L ** (1 - alpha))\n",
    "    b2, b3 = b_ss\n",
    "    \n",
    "    c1 = nvec[0] * w_ss - b2\n",
    "    c2 = nvec[1] * w_ss + (1 + r_ss) * b2 - b3\n",
    "    c3 = nvec[2] * w_ss + (1 + r_ss) * b3\n",
    "    \n",
    "    c_ss = np.array([c1, c2, c3])\n",
    "    C_ss = np.sum(c_ss)\n",
    "    \n",
    "    EE1 = (c_ss[0] ** (-sigma)) - beta * (1 + r_ss) * (c_ss[1] ** (-sigma)) \n",
    "    EE2 = (c_ss[1] ** (-sigma)) - beta * (1 + r_ss) * (c_ss[2] ** (-sigma))\n",
    "    \n",
    "    EulErr_ss = np.array([EE1, EE2])\n",
    "    \n",
    "    RCerr_ss = Y_ss - C_ss - delta * K_ss\n",
    "\n",
    "    ss_time = time.clock() - start_time # Place at end of get_SS()\n",
    "\n",
    "    ss_output = {'b_ss': b_ss, 'c_ss': c_ss, 'w_ss': w_ss, 'r_ss': r_ss,\n",
    "                 'K_ss': K_ss, 'Y_ss': Y_ss, 'C_ss': C_ss,\n",
    "                 'EulErr_ss': EulErr_ss, 'RCerr_ss': RCerr_ss,\n",
    "                 'ss_time': ss_time}\n",
    "    \n",
    "    if SS_graphs:\n",
    "        t1 = np.array([1,2,3])\n",
    "        t2 = np.array([2,3])\n",
    "        plt.plot(t1, c_ss, marker='o',label='consumptions')\n",
    "        plt.plot(t2, b_ss, marker='o',label='savings')\n",
    "        plt.xlabel('Agent\\'s age')\n",
    "        plt.ylabel('Agent\\'s comsumption, savings')\n",
    "        plt.title('Steady-state Distribution of Consumptions and Savings by Age')\n",
    "        plt.legend()\n",
    "        plt.show()\n",
    "    \n",
    "    return ss_output"
   ]
  },
  {
   "cell_type": "markdown",
   "metadata": {},
   "source": [
    "### exer 2.2 (a)"
   ]
  },
  {
   "cell_type": "code",
   "execution_count": 8,
   "metadata": {},
   "outputs": [
    {
     "name": "stdout",
     "output_type": "stream",
     "text": [
      "Steady-state equilibrium values for each parameter:\n"
     ]
    },
    {
     "data": {
      "text/plain": [
       "{'b_ss': array([0.01931274, 0.05841159]),\n",
       " 'c_ss': array([0.18241256, 0.20961491, 0.24087382]),\n",
       " 'w_ss': 0.2017252935955733,\n",
       " 'r_ss': 2.4330302535646116,\n",
       " 'K_ss': 0.07772432611811347,\n",
       " 'Y_ss': 0.6827625321696328,\n",
       " 'C_ss': 0.6329012827935535,\n",
       " 'EulErr_ss': array([-1.33582034e-12,  2.67164069e-12]),\n",
       " 'RCerr_ss': 3.469446951953614e-17,\n",
       " 'ss_time': 0.00046999999999997044}"
      ]
     },
     "execution_count": 8,
     "metadata": {},
     "output_type": "execute_result"
    }
   ],
   "source": [
    "SS_tol = 1e-9\n",
    "bvec_guess = np.array([0.1, 0.1])\n",
    "\n",
    "params = (beta, sigma, nvec, np.sum(nvec), A, alpha, delta, SS_tol)\n",
    "ss_output = get_SS(params, bvec_guess, False)\n",
    "print(\"Steady-state equilibrium values for each parameter:\")\n",
    "ss_output"
   ]
  },
  {
   "cell_type": "code",
   "execution_count": 9,
   "metadata": {},
   "outputs": [
    {
     "name": "stdout",
     "output_type": "stream",
     "text": [
      "The steady-state equilibrium is computed for 0.00046999999999997044 seconds.\n"
     ]
    }
   ],
   "source": [
    "print ('The steady-state equilibrium is computed for {} seconds.'.format(ss_output['ss_time']))"
   ]
  },
  {
   "cell_type": "markdown",
   "metadata": {},
   "source": [
    "### exer 2.2 (b)"
   ]
  },
  {
   "cell_type": "code",
   "execution_count": 10,
   "metadata": {},
   "outputs": [
    {
     "data": {
      "image/png": "[encoded data removed]",
      "text/plain": [
       "<Figure size 432x288 with 1 Axes>"
      ]
     },
     "metadata": {
      "needs_background": "light"
     },
     "output_type": "display_data"
    },
    {
     "data": {
      "text/plain": [
       "{'b_ss': array([0.01931274, 0.05841159]),\n",
       " 'c_ss': array([0.18241256, 0.20961491, 0.24087382]),\n",
       " 'w_ss': 0.2017252935955733,\n",
       " 'r_ss': 2.4330302535646116,\n",
       " 'K_ss': 0.07772432611811347,\n",
       " 'Y_ss': 0.6827625321696328,\n",
       " 'C_ss': 0.6329012827935535,\n",
       " 'EulErr_ss': array([-1.33582034e-12,  2.67164069e-12]),\n",
       " 'RCerr_ss': 3.469446951953614e-17,\n",
       " 'ss_time': 0.00048599999999998644}"
      ]
     },
     "execution_count": 10,
     "metadata": {},
     "output_type": "execute_result"
    }
   ],
   "source": [
    "# set SS_graphs=True\n",
    "\n",
    "get_SS(params, bvec_guess, True)"
   ]
  },
  {
   "cell_type": "markdown",
   "metadata": {},
   "source": [
    "### exer 2.2 (c)"
   ]
  },
  {
   "cell_type": "code",
   "execution_count": 11,
   "metadata": {},
   "outputs": [
    {
     "name": "stdout",
     "output_type": "stream",
     "text": [
      "Steady-state equilibrium values for each parameter (when beta is 0.55):\n"
     ]
    },
    {
     "data": {
      "text/plain": [
       "{'b_ss': array([0.02817696, 0.07686557]),\n",
       " 'c_ss': array([0.19597535, 0.22861559, 0.26669216]),\n",
       " 'w_ss': 0.22415231191003757,\n",
       " 'r_ss': 1.8863599991451423,\n",
       " 'K_ss': 0.1050425255076521,\n",
       " 'Y_ss': 0.7586693633878195,\n",
       " 'C_ss': 0.691283104528901,\n",
       " 'EulErr_ss': array([6.93489710e-12, 2.54374299e-12]),\n",
       " 'RCerr_ss': -5.551115123125783e-17,\n",
       " 'ss_time': 0.00043199999999998795}"
      ]
     },
     "execution_count": 11,
     "metadata": {},
     "output_type": "execute_result"
    }
   ],
   "source": [
    "params2 = (0.55, sigma, nvec, np.sum(nvec), A, alpha, delta, SS_tol)\n",
    "ss_output2 = get_SS(params2, bvec_guess, False)\n",
    "print(\"Steady-state equilibrium values for each parameter (when beta is 0.55):\")\n",
    "ss_output2"
   ]
  },
  {
   "cell_type": "code",
   "execution_count": 12,
   "metadata": {},
   "outputs": [
    {
     "data": {
      "image/png": "[encoded data removed]",
      "text/plain": [
       "<Figure size 432x288 with 1 Axes>"
      ]
     },
     "metadata": {
      "needs_background": "light"
     },
     "output_type": "display_data"
    },
    {
     "data": {
      "text/plain": [
       "{'b_ss': array([0.02817696, 0.07686557]),\n",
       " 'c_ss': array([0.19597535, 0.22861559, 0.26669216]),\n",
       " 'w_ss': 0.22415231191003757,\n",
       " 'r_ss': 1.8863599991451423,\n",
       " 'K_ss': 0.1050425255076521,\n",
       " 'Y_ss': 0.7586693633878195,\n",
       " 'C_ss': 0.691283104528901,\n",
       " 'EulErr_ss': array([6.93489710e-12, 2.54374299e-12]),\n",
       " 'RCerr_ss': -5.551115123125783e-17,\n",
       " 'ss_time': 0.0003830000000000222}"
      ]
     },
     "execution_count": 12,
     "metadata": {},
     "output_type": "execute_result"
    }
   ],
   "source": [
    "# set SS_graphs=True\n",
    "# check the figure \n",
    "\n",
    "get_SS(params2, bvec_guess, True)"
   ]
  },
  {
   "cell_type": "markdown",
   "metadata": {},
   "source": [
    "When $\\beta$ is larger, the steady-state value of wage, consumptions (in every period) and savings (in every period) all increase, while the steady-state value of interest rate decreases. The intuition behind may be that higher $\\beta$ will lead the comsumers to focus more on the later periods than the present one, which will result in more savings. Higher savings will increase firm capitals and it will then cause higher wages and lower interest rates. This will lead to more consumption. "
   ]
  },
  {
   "cell_type": "markdown",
   "metadata": {},
   "source": [
    "## exer 2.3"
   ]
  },
  {
   "cell_type": "code",
   "execution_count": 13,
   "metadata": {},
   "outputs": [],
   "source": [
    "# to avoid redundance formula calc in the following funcs, set these lambda funcs to get value quickly\n",
    "\n",
    "get_r = lambda K, L, alpha, delta, A : A * alpha * ((L / K) ** (1 - alpha)) - delta\n",
    "get_w = lambda K, L, alpha, A: A * (1 - alpha) * ((K / L) ** alpha)\n",
    "get_K = lambda b2, b3: b2+b3\n",
    "get_util = lambda c, sigma=3: (c ** (1-sigma))/(1-sigma)\n",
    "get_MU = lambda c, sigma=3: c ** (-sigma)\n",
    "get_Y = lambda K, L, alpha, A: A * (K ** alpha) * (L ** (1-alpha))\n",
    "get_cons = lambda b_s, b_s_1, n_s, r, w: w * n_s + (1 + r) * b_s - b_s_1"
   ]
  },
  {
   "cell_type": "code",
   "execution_count": 14,
   "metadata": {},
   "outputs": [],
   "source": [
    "# define some sub funcs\n",
    "\n",
    "def get_b32(b32, *args):\n",
    "        r2, r3, b21, w2, w3, beta, sigma, nvec = args\n",
    "        c2  = get_cons(b21, b32, nvec[1], r2, w2)\n",
    "        c3  = get_cons(b32, 0, nvec[2], r3, w3)\n",
    "        MU2 = get_MU(c2)\n",
    "        MU3 = get_MU(c3)\n",
    "        error =  MU2 - beta * (1 + r3) * MU3\n",
    "        return error\n",
    "    \n",
    "def path_solver(path, *args):\n",
    "    bvec_init_val, T, m, beta, alpha, delta, sigma, A, nvec, bvec_ss = args\n",
    "    b_mat = np.zeros([T + m, 3])\n",
    "    b_mat[0, 0:-1] = bvec_init_val\n",
    "\n",
    "    b32_init = 0.1\n",
    "    b32_args  = (path[0 , 3], path[1 , 3], b_mat[0 , 0], path[0 , 2], path[1 , 2], beta, sigma, nvec)\n",
    "    b32 = opt.root(get_b32, b32_init, args = (b32_args))\n",
    "    b32 = b32.x\n",
    "    b_mat[1 , 1] = b32\n",
    "    for i in range(path.shape[0]-2):\n",
    "        w1 = path[i - 1 , 2]\n",
    "        w2 = path[i , 2]\n",
    "        w3 = path[i + 1 , 2]\n",
    "        r2 = path[i , 3]\n",
    "        r3 = path[i + 1, 3]\n",
    "        ts_args = (w1, w2, w3, r2, r3, beta, alpha, delta, sigma, A, nvec)\n",
    "        bvec_ts = opt.root(EulErr, bvec_init, args = (ts_args))\n",
    "        b_mat[i , 0] = bvec_ts.x[0]\n",
    "        b_mat[i + 1, 1] = bvec_ts.x[1]\n",
    "    b_mat[: , 2] = b_mat[: , 0] + b_mat[: , 1]\n",
    "    return b_mat\n",
    "\n",
    "def path_time(K_path_update, K_init, K_ss, T, A, alpha, delta, nvec, m, Type):\n",
    "    path = np.zeros([T + m, 4])\n",
    "    period_path  = np.arange(1, T + m +1)\n",
    "    if Type == \"linear\":\n",
    "        K_path = np.linspace(K_init, K_ss, num = T)\n",
    "    if Type == \"update\":\n",
    "        K_path = K_path_update\n",
    "    path[: , 0] = period_path\n",
    "    path[: -m, 1] = K_path\n",
    "    path[-m: , 1] = K_ss\n",
    "    path[: , 2] = get_w(path[: , 1], nvec.sum(), alpha, A)\n",
    "    path[: , 3] = get_r(path[: , 1], nvec.sum(), alpha, delta, A)\n",
    "    return path\n",
    "\n",
    "def EulErr(bvec, *args):\n",
    "    w1, w2, w3, r2, r3, beta, alpha, delta, sigma, A, nvec = args\n",
    "    b2, b3 = bvec\n",
    "    L = nvec.sum()\n",
    "    K = get_K(b2, b3)\n",
    "    c1 = get_cons(0, b2, nvec[0], r2, w1)\n",
    "    c2 = get_cons(b2, b3, nvec[1], r2, w2)\n",
    "    c3 = get_cons(b3, 0, nvec[2], r3, w3)\n",
    "    MU1 = get_MU(c1)\n",
    "    MU2 = get_MU(c2)\n",
    "    MU3 = get_MU(c3)\n",
    "    Eul1 = MU1 - beta*(1+r2) * MU2\n",
    "    Eul2 = MU2 - beta*(1+r3) * MU3\n",
    "    Euler_errs = np.array([Eul1, Eul2])\n",
    "    return Euler_errs"
   ]
  },
  {
   "cell_type": "code",
   "execution_count": 15,
   "metadata": {},
   "outputs": [],
   "source": [
    "# define the TPI function\n",
    "\n",
    "def TPI(path_init, xival, tol, *args):\n",
    "    bvec_init, T, m, beta, alpha, delta, sigma, A, nvec, bvec_ss, K_ss = args\n",
    "    b_mat = np.zeros([T + m, 3])\n",
    "    b_mat[0, 0:-1] = bvec_init\n",
    "    b_HH_init  = path_solver(path_init, bvec_init, T, m, beta, alpha, delta, sigma, A, nvec, bvec_ss)\n",
    "    dist_init = 1e9\n",
    "    if dist_init > tol:\n",
    "        path = path_init\n",
    "        b_HH = b_HH_init\n",
    "        dist = dist_init\n",
    "        iter_num = 0\n",
    "        while dist > tol:\n",
    "            update = xival * b_HH[: -m, 2] + (1 - xival) * path[: -m, 1]\n",
    "            path = path_time(update, 0, K_ss, T, A, alpha, delta, nvec, m, \"update\")\n",
    "            b_HH = path_solver(path, bvec_init, T, m, beta, alpha, delta, sigma, A, nvec, bvec_ss)\n",
    "            dist = sum(((path[: -m, 1] - b_HH[: -m, 2])/path[: -m, 1])**2)\n",
    "            iter_num = iter_num + 1\n",
    "            print(\"iteration: \", iter_num, \" the distance is : \", dist)\n",
    "\n",
    "        result = (path, b_HH)\n",
    "    else:\n",
    "        result =  (path_init, b_HH_init)\n",
    "    return result"
   ]
  },
  {
   "cell_type": "markdown",
   "metadata": {},
   "source": [
    "### exer 2.3 (a)"
   ]
  },
  {
   "cell_type": "code",
   "execution_count": 16,
   "metadata": {},
   "outputs": [],
   "source": [
    "# give the basic setting\n",
    "\n",
    "xival = 0.1\n",
    "tol = 1e-9\n",
    "ss_output = get_SS(params, bvec_guess, False)\n",
    "bvec_init = np.array([0.8 * ss_output['b_ss'][0], 1.1 * ss_output['b_ss'][1]])\n",
    "T = 40\n",
    "m = 10\n",
    "bvec_ss = ss_output['b_ss']\n",
    "K_ss = ss_output['K_ss']\n",
    "K_init = bvec_init.sum()\n",
    "\n",
    "path_init = path_time(0, K_init, K_ss, T, A, alpha, delta, nvec, m, \"linear\")"
   ]
  },
  {
   "cell_type": "code",
   "execution_count": 17,
   "metadata": {
    "scrolled": false
   },
   "outputs": [
    {
     "name": "stdout",
     "output_type": "stream",
     "text": [
      "iteration:  1  the distance is :  0.003553673825579648\n",
      "iteration:  2  the distance is :  0.0029244814562935087\n",
      "iteration:  3  the distance is :  0.0024238221362930853\n",
      "iteration:  4  the distance is :  0.0020226062403272092\n",
      "iteration:  5  the distance is :  0.0016987638250673836\n",
      "iteration:  6  the distance is :  0.0014354810206846785\n",
      "iteration:  7  the distance is :  0.001219892700043312\n",
      "iteration:  8  the distance is :  0.001042110191682677\n",
      "iteration:  9  the distance is :  0.0008944959575708422\n",
      "iteration:  10  the distance is :  0.0007711209310175705\n",
      "iteration:  11  the distance is :  0.0006673573674739435\n",
      "iteration:  12  the distance is :  0.0005795725132289232\n",
      "iteration:  13  the distance is :  0.0005048974755538979\n",
      "iteration:  14  the distance is :  0.00044105232658166947\n",
      "iteration:  15  the distance is :  0.00038621335851108263\n",
      "iteration:  16  the distance is :  0.0003389120095644348\n",
      "iteration:  17  the distance is :  0.0002979576429920738\n",
      "iteration:  18  the distance is :  0.0002623783351556957\n",
      "iteration:  19  the distance is :  0.00023137529505627274\n",
      "iteration:  20  the distance is :  0.00020428762937057979\n",
      "iteration:  21  the distance is :  0.00018056498145626438\n",
      "iteration:  22  the distance is :  0.00015974618146470985\n",
      "iteration:  23  the distance is :  0.0001414425004562901\n",
      "iteration:  24  the distance is :  0.00012532444327441653\n",
      "iteration:  25  the distance is :  0.00011111127181744919\n",
      "iteration:  26  the distance is :  9.856264372371768e-05\n",
      "iteration:  27  the distance is :  8.747189732100669e-05\n",
      "iteration:  28  the distance is :  7.766062388643824e-05\n",
      "iteration:  29  the distance is :  6.897425169288433e-05\n",
      "iteration:  30  the distance is :  6.127842962079648e-05\n",
      "iteration:  31  the distance is :  5.445604625397938e-05\n",
      "iteration:  32  the distance is :  4.840475707812503e-05\n",
      "iteration:  33  the distance is :  4.303492045429836e-05\n",
      "iteration:  34  the distance is :  3.826786454634896e-05\n",
      "iteration:  35  the distance is :  3.40344239211357e-05\n",
      "iteration:  36  the distance is :  3.0273697304785625e-05\n",
      "iteration:  37  the distance is :  2.6931987865497266e-05\n",
      "iteration:  38  the distance is :  2.3961895083972195e-05\n",
      "iteration:  39  the distance is :  2.1321533279912174e-05\n",
      "iteration:  40  the distance is :  1.897385657878051e-05\n",
      "iteration:  41  the distance is :  1.6886073822628122e-05\n",
      "iteration:  42  the distance is :  1.5029139879094816e-05\n",
      "iteration:  43  the distance is :  1.3377312155470932e-05\n",
      "iteration:  44  the distance is :  1.1907763012309678e-05\n",
      "iteration:  45  the distance is :  1.0600240294345598e-05\n",
      "iteration:  46  the distance is :  9.436769433461876e-06\n",
      "iteration:  47  the distance is :  8.401391589240846e-06\n",
      "iteration:  48  the distance is :  7.479933123532184e-06\n",
      "iteration:  49  the distance is :  6.659802392920036e-06\n",
      "iteration:  50  the distance is :  5.929810414966522e-06\n",
      "iteration:  51  the distance is :  5.280012442925504e-06\n",
      "iteration:  52  the distance is :  4.701567886571666e-06\n",
      "iteration:  53  the distance is :  4.186616357754438e-06\n",
      "iteration:  54  the distance is :  3.7281679091761143e-06\n",
      "iteration:  55  the distance is :  3.3200057824945647e-06\n",
      "iteration:  56  the distance is :  2.956600194262189e-06\n",
      "iteration:  57  the distance is :  2.633031871145981e-06\n",
      "iteration:  58  the distance is :  2.3449242039045118e-06\n",
      "iteration:  59  the distance is :  2.088383026651689e-06\n",
      "iteration:  60  the distance is :  1.8599431471114718e-06\n",
      "iteration:  61  the distance is :  1.6565208573874086e-06\n",
      "iteration:  62  the distance is :  1.4753717456022305e-06\n",
      "iteration:  63  the distance is :  1.3140532081380837e-06\n",
      "iteration:  64  the distance is :  1.1703911320077602e-06\n",
      "iteration:  65  the distance is :  1.042450278047937e-06\n",
      "iteration:  66  the distance is :  9.285079495725582e-07\n",
      "iteration:  67  the distance is :  8.270305785644431e-07\n",
      "iteration:  68  the distance is :  7.366529033841582e-07\n",
      "iteration:  69  the distance is :  6.561594489209217e-07\n",
      "iteration:  70  the distance is :  5.844680527960773e-07\n",
      "iteration:  71  the distance is :  5.206152101235914e-07\n",
      "iteration:  72  the distance is :  4.637430348759215e-07\n",
      "iteration:  73  the distance is :  4.1308765858996615e-07\n",
      "iteration:  74  the distance is :  3.6796890715794257e-07\n",
      "iteration:  75  the distance is :  3.2778111426669293e-07\n",
      "iteration:  76  the distance is :  2.919849458043724e-07\n",
      "iteration:  77  the distance is :  2.601001235381159e-07\n",
      "iteration:  78  the distance is :  2.3169894879982318e-07\n",
      "iteration:  79  the distance is :  2.0640053791134595e-07\n",
      "iteration:  80  the distance is :  1.838656908957532e-07\n",
      "iteration:  81  the distance is :  1.6379232368904322e-07\n",
      "iteration:  82  the distance is :  1.4591140180974437e-07\n",
      "iteration:  83  the distance is :  1.2998332028229576e-07\n",
      "iteration:  84  the distance is :  1.1579468073297507e-07\n",
      "iteration:  85  the distance is :  1.0315542197568705e-07\n",
      "iteration:  86  the distance is :  9.189626523713096e-08\n",
      "iteration:  87  the distance is :  8.18664394476861e-08\n",
      "iteration:  88  the distance is :  7.293165583991095e-08\n",
      "iteration:  89  the distance is :  6.497230447582796e-08\n",
      "iteration:  90  the distance is :  5.7881848350535466e-08\n",
      "iteration:  91  the distance is :  5.156539338268448e-08\n",
      "iteration:  92  the distance is :  4.593841500633375e-08\n",
      "iteration:  93  the distance is :  4.092562418278558e-08\n",
      "iteration:  94  the distance is :  3.645995754917143e-08\n",
      "iteration:  95  the distance is :  3.2481678095305754e-08\n",
      "iteration:  96  the distance is :  2.8937574255886814e-08\n",
      "iteration:  97  the distance is :  2.5780246635799393e-08\n",
      "iteration:  98  the distance is :  2.2967472766746504e-08\n",
      "iteration:  99  the distance is :  2.0461641351103676e-08\n",
      "iteration:  100  the distance is :  1.822924838145023e-08\n",
      "iteration:  101  the distance is :  1.624044836414435e-08\n",
      "iteration:  102  the distance is :  1.4468654612209672e-08\n",
      "iteration:  103  the distance is :  1.2890183239497289e-08\n",
      "iteration:  104  the distance is :  1.1483936071361245e-08\n",
      "iteration:  105  the distance is :  1.0231118216361342e-08\n",
      "iteration:  106  the distance is :  9.114986504694915e-09\n",
      "iteration:  107  the distance is :  8.12062541891123e-09\n",
      "iteration:  108  the distance is :  7.2347475092320335e-09\n",
      "iteration:  109  the distance is :  6.445515616072188e-09\n",
      "iteration:  110  the distance is :  5.742384514971529e-09\n",
      "iteration:  111  the distance is :  5.115959861539251e-09\n",
      "iteration:  112  the distance is :  4.557872544010993e-09\n",
      "iteration:  113  the distance is :  4.0606667599297395e-09\n",
      "iteration:  114  the distance is :  3.617700316765281e-09\n",
      "iteration:  115  the distance is :  3.223055821079909e-09\n",
      "iteration:  116  the distance is :  2.871461565420702e-09\n",
      "iteration:  117  the distance is :  2.558221054446389e-09\n",
      "iteration:  118  the distance is :  2.279150225792485e-09\n",
      "iteration:  119  the distance is :  2.030521524953134e-09\n",
      "iteration:  120  the distance is :  1.8090140860400777e-09\n",
      "iteration:  121  the distance is :  1.6116693512078236e-09\n",
      "iteration:  122  the distance is :  1.4358515345114182e-09\n",
      "iteration:  123  the distance is :  1.279212401488102e-09\n",
      "iteration:  124  the distance is :  1.1396598931071242e-09\n",
      "iteration:  125  the distance is :  1.015330174104436e-09\n",
      "iteration:  126  the distance is :  9.045627321651438e-10\n"
     ]
    }
   ],
   "source": [
    "path = TPI(path_init, xival, tol,  bvec_init, T, m, beta, alpha, delta, sigma, A, nvec, bvec_ss, K_ss)"
   ]
  },
  {
   "cell_type": "code",
   "execution_count": 18,
   "metadata": {},
   "outputs": [],
   "source": [
    "# calc the errors\n",
    "\n",
    "K_path = path[0][:, [0 , 1]]\n",
    "w_path = path[0][:, [0 , 2]]\n",
    "r_path = path[0][:, [0 , 3]]\n",
    "b_path = path[1][:,:2]\n",
    "\n",
    "Eulerr_path = np.zeros((30, 2))\n",
    "RCerr_path = np.zeros(30)\n",
    "for i in range(30):\n",
    "    if i == 0:\n",
    "        rt = rt1 = r_path[0,1]\n",
    "        wt = wt1 = w_path[0,1]\n",
    "        b2t = b2t1 = b_path[0, 0]\n",
    "        b3t = b3t1 = b_path[0, 1]\n",
    "    else:\n",
    "        rt, rt1 = r_path[i, 1], r_path[i-1, 1]\n",
    "        b2t, b3t = b_path[i,:]\n",
    "        b2t1, b3t1 = b_path[i-1, :]\n",
    "        wt, wt1 = w_path[i,1], w_path[i-1, 1]\n",
    "    Kt = K_path[i,1]\n",
    "    Kt_1 = K_path[i+1, 1]\n",
    "    Yt = get_Y(Kt, nvec.sum(), alpha, A)\n",
    "    c1t = get_cons(0, b2t, nvec[0], rt, wt)\n",
    "    c2t = get_cons(b2t1, b3t, nvec[1], rt1, wt)\n",
    "    c3t = get_cons(b3t1, 0, nvec[2], rt1, wt)\n",
    "    Ct = c1t + c2t + c3t\n",
    "    RCerr_path[i] = Yt - Ct - Kt_1 + (1 - delta) * Kt\n",
    "    Eulerr_path[i, :] = EulErr(b_path[i, :], w_path[i,1], w_path[i+1,1], \n",
    "                               w_path[i+2,1], r_path[i+1,1], r_path[i+2,1], \n",
    "                               beta, alpha, delta, sigma, A, nvec)"
   ]
  },
  {
   "cell_type": "code",
   "execution_count": 19,
   "metadata": {},
   "outputs": [
    {
     "name": "stdout",
     "output_type": "stream",
     "text": [
      "Maximum of the absolute values of all the Euler errors across the entire time path is 37.40385544984869.\n",
      "Maximum of the absolute values of all the resource constraint errors across the entire time path is 0.0057733905786395805.\n"
     ]
    }
   ],
   "source": [
    "print('Maximum of the absolute values of all the Euler errors across the entire time path is {}.'.format(np.abs(Eulerr_path).max()))\n",
    "print('Maximum of the absolute values of all the resource constraint errors across the entire time path is {}.'.format(np.abs(RCerr_path).max()))"
   ]
  },
  {
   "cell_type": "markdown",
   "metadata": {},
   "source": [
    "### exer 2.3 (b)"
   ]
  },
  {
   "cell_type": "code",
   "execution_count": 20,
   "metadata": {},
   "outputs": [
    {
     "data": {
      "image/png": "[encoded data removed]",
      "text/plain": [
       "<Figure size 432x288 with 1 Axes>"
      ]
     },
     "metadata": {
      "needs_background": "light"
     },
     "output_type": "display_data"
    }
   ],
   "source": [
    "# plot K\n",
    "\n",
    "K_fig = plt.figure()\n",
    "plt.plot(K_path[: , 0], K_path[: , 1])\n",
    "plt.xlabel('periods')\n",
    "plt.ylabel('aggregate capital stock')\n",
    "plt.title('Time path of aggregate capital stock $K$')\n",
    "plt.show()"
   ]
  },
  {
   "cell_type": "code",
   "execution_count": 21,
   "metadata": {},
   "outputs": [
    {
     "data": {
      "image/png": "[encoded data removed]",
      "text/plain": [
       "<Figure size 432x288 with 1 Axes>"
      ]
     },
     "metadata": {
      "needs_background": "light"
     },
     "output_type": "display_data"
    }
   ],
   "source": [
    "# plot wage\n",
    "\n",
    "w_fig = plt.figure()\n",
    "plt.plot(w_path[: , 0], w_path[: , 1])\n",
    "plt.xlabel('periods')\n",
    "plt.ylabel('wage')\n",
    "plt.title('Time path of wage $w$')\n",
    "plt.show()"
   ]
  },
  {
   "cell_type": "code",
   "execution_count": 22,
   "metadata": {},
   "outputs": [
    {
     "data": {
      "image/png": "[encoded data removed]",
      "text/plain": [
       "<Figure size 432x288 with 1 Axes>"
      ]
     },
     "metadata": {
      "needs_background": "light"
     },
     "output_type": "display_data"
    }
   ],
   "source": [
    "# plot interest rate\n",
    "\n",
    "r_fig = plt.figure()\n",
    "plt.plot(r_path[: , 0], r_path[: , 1])\n",
    "plt.xlabel('periods')\n",
    "plt.ylabel('interest rate')\n",
    "plt.title('Time path of interest rate $r$')\n",
    "plt.show()"
   ]
  },
  {
   "cell_type": "markdown",
   "metadata": {},
   "source": [
    "### exer 2.3 (c)"
   ]
  },
  {
   "cell_type": "code",
   "execution_count": 23,
   "metadata": {},
   "outputs": [
    {
     "name": "stdout",
     "output_type": "stream",
     "text": [
      "To get within 0.00001 of the steady-state aggregate capital stock K, it takes 12 period.\n"
     ]
    }
   ],
   "source": [
    "for i in range(50):\n",
    "    K = K_path[i, 1]\n",
    "    if abs(K - K_ss) <= 0.00001:\n",
    "        print('To get within 0.00001 of the steady-state aggregate capital stock K, it takes {} period.'.format(int(K_path[i, 0])))\n",
    "        break"
   ]
  },
  {
   "cell_type": "code",
   "execution_count": 24,
   "metadata": {},
   "outputs": [
    {
     "name": "stdout",
     "output_type": "stream",
     "text": [
      "Period 12 is the period after which the aggregate capital stock never is again farther than 0.00001 away from the steady-state.\n"
     ]
    }
   ],
   "source": [
    "for i in range(50):\n",
    "    K_mat = K_path[i:, 1]\n",
    "    Diff = np.abs(K_mat - K_ss)\n",
    "    if np.sum(Diff > 0.00001) == 0:\n",
    "        print(\"Period {} is the period after which the aggregate capital stock never is again farther than 0.00001 away from the steady-state.\".format(int(K_path[i, 0])))\n",
    "        break"
   ]
  }
 ],
 "metadata": {
  "kernelspec": {
   "display_name": "Python 3",
   "language": "python",
   "name": "python3"
  },
  "language_info": {
   "codemirror_mode": {
    "name": "ipython",
    "version": 3
   },
   "file_extension": ".py",
   "mimetype": "text/x-python",
   "name": "python",
   "nbconvert_exporter": "python",
   "pygments_lexer": "ipython3",
   "version": "3.7.7"
  }
 },
 "nbformat": 4,
 "nbformat_minor": 4
}
